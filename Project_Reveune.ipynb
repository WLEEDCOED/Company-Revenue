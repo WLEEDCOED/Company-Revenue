{
 "cells": [
  {
   "cell_type": "code",
   "execution_count": 37,
   "id": "1b52e344-f5d1-406c-b123-f69aa91eea74",
   "metadata": {},
   "outputs": [],
   "source": [
    "import pandas as pd\n",
    "import matplotlib.pyplot as plt\n",
    "import seaborn as sns\n",
    "from sklearn.linear_model import LinearRegression\n",
    "import numpy as np\n"
   ]
  },
  {
   "cell_type": "code",
   "execution_count": 3,
   "id": "5f438dfd-2e36-4b2b-a9d9-75a00bdacf6e",
   "metadata": {},
   "outputs": [],
   "source": [
    "df=pd.read_csv('startup_financials_dirty.csv')"
   ]
  },
  {
   "cell_type": "code",
   "execution_count": 5,
   "id": "c1b08aca-3776-4c81-94e0-11bed540ee29",
   "metadata": {},
   "outputs": [
    {
     "data": {
      "text/html": [
       "<div>\n",
       "<style scoped>\n",
       "    .dataframe tbody tr th:only-of-type {\n",
       "        vertical-align: middle;\n",
       "    }\n",
       "\n",
       "    .dataframe tbody tr th {\n",
       "        vertical-align: top;\n",
       "    }\n",
       "\n",
       "    .dataframe thead th {\n",
       "        text-align: right;\n",
       "    }\n",
       "</style>\n",
       "<table border=\"1\" class=\"dataframe\">\n",
       "  <thead>\n",
       "    <tr style=\"text-align: right;\">\n",
       "      <th></th>\n",
       "      <th>company_name</th>\n",
       "      <th>year_founded</th>\n",
       "      <th>revenue_year1</th>\n",
       "      <th>revenue_year2</th>\n",
       "      <th>revenue_year3</th>\n",
       "      <th>revenue_year4</th>\n",
       "      <th>revenue_year5</th>\n",
       "      <th>industry</th>\n",
       "      <th>employees</th>\n",
       "      <th>status</th>\n",
       "    </tr>\n",
       "  </thead>\n",
       "  <tbody>\n",
       "    <tr>\n",
       "      <th>0</th>\n",
       "      <td>GreenTech</td>\n",
       "      <td>2018</td>\n",
       "      <td>59973</td>\n",
       "      <td>NaN</td>\n",
       "      <td>182383</td>\n",
       "      <td>866362.0</td>\n",
       "      <td>1202012.0</td>\n",
       "      <td>Technology</td>\n",
       "      <td>20.0</td>\n",
       "      <td>Inactive</td>\n",
       "    </tr>\n",
       "    <tr>\n",
       "      <th>1</th>\n",
       "      <td>FoodSpace</td>\n",
       "      <td>2019</td>\n",
       "      <td>191715</td>\n",
       "      <td>NaN</td>\n",
       "      <td>669902</td>\n",
       "      <td>643036.0</td>\n",
       "      <td>450700.0</td>\n",
       "      <td>Food</td>\n",
       "      <td>10.0</td>\n",
       "      <td>Active</td>\n",
       "    </tr>\n",
       "    <tr>\n",
       "      <th>2</th>\n",
       "      <td>EduWorld</td>\n",
       "      <td>2019</td>\n",
       "      <td>202676</td>\n",
       "      <td>262856.0</td>\n",
       "      <td>851332</td>\n",
       "      <td>884245.0</td>\n",
       "      <td>1464015.0</td>\n",
       "      <td>Education</td>\n",
       "      <td>50.0</td>\n",
       "      <td>Inactive</td>\n",
       "    </tr>\n",
       "    <tr>\n",
       "      <th>3</th>\n",
       "      <td>HealthPlus</td>\n",
       "      <td>2015</td>\n",
       "      <td>106739</td>\n",
       "      <td>NaN</td>\n",
       "      <td>306531</td>\n",
       "      <td>1762935.0</td>\n",
       "      <td>1929941.0</td>\n",
       "      <td>Health</td>\n",
       "      <td>NaN</td>\n",
       "      <td>Active</td>\n",
       "    </tr>\n",
       "    <tr>\n",
       "      <th>4</th>\n",
       "      <td>FinNova</td>\n",
       "      <td>2017</td>\n",
       "      <td>299838</td>\n",
       "      <td>339717.0</td>\n",
       "      <td>375438</td>\n",
       "      <td>NaN</td>\n",
       "      <td>242609.0</td>\n",
       "      <td>Finance</td>\n",
       "      <td>10.0</td>\n",
       "      <td>Active</td>\n",
       "    </tr>\n",
       "  </tbody>\n",
       "</table>\n",
       "</div>"
      ],
      "text/plain": [
       "  company_name  year_founded  revenue_year1  revenue_year2  revenue_year3  \\\n",
       "0    GreenTech          2018          59973            NaN         182383   \n",
       "1    FoodSpace          2019         191715            NaN         669902   \n",
       "2     EduWorld          2019         202676       262856.0         851332   \n",
       "3   HealthPlus          2015         106739            NaN         306531   \n",
       "4      FinNova          2017         299838       339717.0         375438   \n",
       "\n",
       "   revenue_year4  revenue_year5    industry  employees    status  \n",
       "0       866362.0      1202012.0  Technology       20.0  Inactive  \n",
       "1       643036.0       450700.0        Food       10.0    Active  \n",
       "2       884245.0      1464015.0   Education       50.0  Inactive  \n",
       "3      1762935.0      1929941.0      Health        NaN    Active  \n",
       "4            NaN       242609.0     Finance       10.0    Active  "
      ]
     },
     "execution_count": 5,
     "metadata": {},
     "output_type": "execute_result"
    }
   ],
   "source": [
    "df.head()"
   ]
  },
  {
   "cell_type": "code",
   "execution_count": 7,
   "id": "c1f27aab-3d97-4609-8e66-be6849576b9b",
   "metadata": {},
   "outputs": [
    {
     "data": {
      "text/plain": [
       "company_name     0\n",
       "year_founded     0\n",
       "revenue_year1    0\n",
       "revenue_year2    5\n",
       "revenue_year3    0\n",
       "revenue_year4    1\n",
       "revenue_year5    1\n",
       "industry         0\n",
       "employees        1\n",
       "status           0\n",
       "dtype: int64"
      ]
     },
     "execution_count": 7,
     "metadata": {},
     "output_type": "execute_result"
    }
   ],
   "source": [
    "df.isnull().sum()"
   ]
  },
  {
   "cell_type": "code",
   "execution_count": 9,
   "id": "f5dac7ce-4543-4076-b5e2-1a07a7db2911",
   "metadata": {},
   "outputs": [],
   "source": [
    "reveune_col=['revenue_year1','revenue_year2','revenue_year3','revenue_year4','revenue_year5']\n",
    "df[reveune_col]=df[reveune_col].apply(lambda x:x.fillna(x.mean()),axis=1)"
   ]
  },
  {
   "cell_type": "code",
   "execution_count": 11,
   "id": "017e0db1-a218-44cf-9da3-39ef9100d090",
   "metadata": {},
   "outputs": [],
   "source": [
    "df['employees']=df['employees'].fillna(df['employees'].median())"
   ]
  },
  {
   "cell_type": "code",
   "execution_count": 17,
   "id": "d20fcc22-0442-4403-8265-ef2a6171e89c",
   "metadata": {},
   "outputs": [
    {
     "data": {
      "text/plain": [
       "company_name     0\n",
       "year_founded     0\n",
       "revenue_year1    0\n",
       "revenue_year2    0\n",
       "revenue_year3    0\n",
       "revenue_year4    0\n",
       "revenue_year5    0\n",
       "industry         0\n",
       "employees        0\n",
       "status           0\n",
       "dtype: int64"
      ]
     },
     "execution_count": 17,
     "metadata": {},
     "output_type": "execute_result"
    }
   ],
   "source": [
    "df.isnull().sum()"
   ]
  },
  {
   "cell_type": "code",
   "execution_count": 21,
   "id": "b25bd560-f7e4-45ae-b925-d0ccf599812e",
   "metadata": {},
   "outputs": [
    {
     "data": {
      "text/html": [
       "<div>\n",
       "<style scoped>\n",
       "    .dataframe tbody tr th:only-of-type {\n",
       "        vertical-align: middle;\n",
       "    }\n",
       "\n",
       "    .dataframe tbody tr th {\n",
       "        vertical-align: top;\n",
       "    }\n",
       "\n",
       "    .dataframe thead th {\n",
       "        text-align: right;\n",
       "    }\n",
       "</style>\n",
       "<table border=\"1\" class=\"dataframe\">\n",
       "  <thead>\n",
       "    <tr style=\"text-align: right;\">\n",
       "      <th></th>\n",
       "      <th>year_founded</th>\n",
       "      <th>revenue_year1</th>\n",
       "      <th>revenue_year2</th>\n",
       "      <th>revenue_year3</th>\n",
       "      <th>revenue_year4</th>\n",
       "      <th>revenue_year5</th>\n",
       "      <th>employees</th>\n",
       "    </tr>\n",
       "  </thead>\n",
       "  <tbody>\n",
       "    <tr>\n",
       "      <th>count</th>\n",
       "      <td>10.000000</td>\n",
       "      <td>10.000000</td>\n",
       "      <td>1.000000e+01</td>\n",
       "      <td>10.000000</td>\n",
       "      <td>1.000000e+01</td>\n",
       "      <td>1.000000e+01</td>\n",
       "      <td>10.000000</td>\n",
       "    </tr>\n",
       "    <tr>\n",
       "      <th>mean</th>\n",
       "      <td>2017.600000</td>\n",
       "      <td>212925.300000</td>\n",
       "      <td>4.876386e+05</td>\n",
       "      <td>539788.900000</td>\n",
       "      <td>7.320964e+05</td>\n",
       "      <td>7.884881e+05</td>\n",
       "      <td>52.000000</td>\n",
       "    </tr>\n",
       "    <tr>\n",
       "      <th>std</th>\n",
       "      <td>1.429841</td>\n",
       "      <td>92926.080908</td>\n",
       "      <td>2.249467e+05</td>\n",
       "      <td>216420.832887</td>\n",
       "      <td>4.463837e+05</td>\n",
       "      <td>5.734184e+05</td>\n",
       "      <td>63.691967</td>\n",
       "    </tr>\n",
       "    <tr>\n",
       "      <th>min</th>\n",
       "      <td>2015.000000</td>\n",
       "      <td>59973.000000</td>\n",
       "      <td>2.403010e+05</td>\n",
       "      <td>182383.000000</td>\n",
       "      <td>1.419240e+05</td>\n",
       "      <td>2.426090e+05</td>\n",
       "      <td>5.000000</td>\n",
       "    </tr>\n",
       "    <tr>\n",
       "      <th>25%</th>\n",
       "      <td>2017.000000</td>\n",
       "      <td>140422.500000</td>\n",
       "      <td>3.561749e+05</td>\n",
       "      <td>389465.500000</td>\n",
       "      <td>5.105240e+05</td>\n",
       "      <td>3.859267e+05</td>\n",
       "      <td>10.000000</td>\n",
       "    </tr>\n",
       "    <tr>\n",
       "      <th>50%</th>\n",
       "      <td>2017.500000</td>\n",
       "      <td>214027.500000</td>\n",
       "      <td>4.580926e+05</td>\n",
       "      <td>561370.500000</td>\n",
       "      <td>6.368590e+05</td>\n",
       "      <td>4.670960e+05</td>\n",
       "      <td>20.000000</td>\n",
       "    </tr>\n",
       "    <tr>\n",
       "      <th>75%</th>\n",
       "      <td>2019.000000</td>\n",
       "      <td>297797.500000</td>\n",
       "      <td>5.602751e+05</td>\n",
       "      <td>682754.000000</td>\n",
       "      <td>8.797742e+05</td>\n",
       "      <td>1.142137e+06</td>\n",
       "      <td>87.500000</td>\n",
       "    </tr>\n",
       "    <tr>\n",
       "      <th>max</th>\n",
       "      <td>2019.000000</td>\n",
       "      <td>322188.000000</td>\n",
       "      <td>1.026536e+06</td>\n",
       "      <td>851332.000000</td>\n",
       "      <td>1.762935e+06</td>\n",
       "      <td>1.929941e+06</td>\n",
       "      <td>200.000000</td>\n",
       "    </tr>\n",
       "  </tbody>\n",
       "</table>\n",
       "</div>"
      ],
      "text/plain": [
       "       year_founded  revenue_year1  revenue_year2  revenue_year3  \\\n",
       "count     10.000000      10.000000   1.000000e+01      10.000000   \n",
       "mean    2017.600000  212925.300000   4.876386e+05  539788.900000   \n",
       "std        1.429841   92926.080908   2.249467e+05  216420.832887   \n",
       "min     2015.000000   59973.000000   2.403010e+05  182383.000000   \n",
       "25%     2017.000000  140422.500000   3.561749e+05  389465.500000   \n",
       "50%     2017.500000  214027.500000   4.580926e+05  561370.500000   \n",
       "75%     2019.000000  297797.500000   5.602751e+05  682754.000000   \n",
       "max     2019.000000  322188.000000   1.026536e+06  851332.000000   \n",
       "\n",
       "       revenue_year4  revenue_year5   employees  \n",
       "count   1.000000e+01   1.000000e+01   10.000000  \n",
       "mean    7.320964e+05   7.884881e+05   52.000000  \n",
       "std     4.463837e+05   5.734184e+05   63.691967  \n",
       "min     1.419240e+05   2.426090e+05    5.000000  \n",
       "25%     5.105240e+05   3.859267e+05   10.000000  \n",
       "50%     6.368590e+05   4.670960e+05   20.000000  \n",
       "75%     8.797742e+05   1.142137e+06   87.500000  \n",
       "max     1.762935e+06   1.929941e+06  200.000000  "
      ]
     },
     "execution_count": 21,
     "metadata": {},
     "output_type": "execute_result"
    }
   ],
   "source": [
    "df.describe()"
   ]
  },
  {
   "cell_type": "code",
   "execution_count": 23,
   "id": "69f0e208-b1b4-4f86-9650-bd22c72131c6",
   "metadata": {},
   "outputs": [
    {
     "data": {
      "text/plain": [
       "industry\n",
       "Technology      1\n",
       "Food            1\n",
       "Education       1\n",
       "Health          1\n",
       "Finance         1\n",
       "Environment     1\n",
       "Healthcare      1\n",
       "Construction    1\n",
       "Agriculture     1\n",
       "Energy          1\n",
       "Name: count, dtype: int64"
      ]
     },
     "execution_count": 23,
     "metadata": {},
     "output_type": "execute_result"
    }
   ],
   "source": [
    "df['industry'].value_counts()"
   ]
  },
  {
   "cell_type": "code",
   "execution_count": 33,
   "id": "ded6400d-81df-44b3-a17e-cffddc629127",
   "metadata": {},
   "outputs": [
    {
     "data": {
      "image/png": "[encoded data removed]",
      "text/plain": [
       "<Figure size 1000x600 with 1 Axes>"
      ]
     },
     "metadata": {},
     "output_type": "display_data"
    }
   ],
   "source": [
    "industry_revenue=df.groupby('industry')[reveune_col].mean().mean(axis=1).sort_values(ascending=False)\n",
    "\n",
    "plt.figure(figsize=(10,6))\n",
    "sns.barplot(x=industry_revenue.index, y=industry_revenue.values)\n",
    "plt.xticks(rotation=45)\n",
    "plt.title('متوسط الإيرادات حسب الصناعة')\n",
    "plt.ylabel('متوسط الإيرادات')\n",
    "plt.show()"
   ]
  },
  {
   "cell_type": "code",
   "execution_count": 43,
   "id": "1bf3fbd5-2ab6-4b83-a903-e5398cafbdbd",
   "metadata": {},
   "outputs": [
    {
     "data": {
      "text/html": [
       "<div>\n",
       "<style scoped>\n",
       "    .dataframe tbody tr th:only-of-type {\n",
       "        vertical-align: middle;\n",
       "    }\n",
       "\n",
       "    .dataframe tbody tr th {\n",
       "        vertical-align: top;\n",
       "    }\n",
       "\n",
       "    .dataframe thead th {\n",
       "        text-align: right;\n",
       "    }\n",
       "</style>\n",
       "<table border=\"1\" class=\"dataframe\">\n",
       "  <thead>\n",
       "    <tr style=\"text-align: right;\">\n",
       "      <th></th>\n",
       "      <th>company_name</th>\n",
       "      <th>predicted_revenue_year6</th>\n",
       "    </tr>\n",
       "  </thead>\n",
       "  <tbody>\n",
       "    <tr>\n",
       "      <th>0</th>\n",
       "      <td>GreenTech</td>\n",
       "      <td>1349509.750</td>\n",
       "    </tr>\n",
       "    <tr>\n",
       "      <th>1</th>\n",
       "      <td>FoodSpace</td>\n",
       "      <td>690488.575</td>\n",
       "    </tr>\n",
       "    <tr>\n",
       "      <th>2</th>\n",
       "      <td>EduWorld</td>\n",
       "      <td>1676244.900</td>\n",
       "    </tr>\n",
       "    <tr>\n",
       "      <th>3</th>\n",
       "      <td>HealthPlus</td>\n",
       "      <td>2341377.250</td>\n",
       "    </tr>\n",
       "    <tr>\n",
       "      <th>4</th>\n",
       "      <td>FinNova</td>\n",
       "      <td>272468.150</td>\n",
       "    </tr>\n",
       "  </tbody>\n",
       "</table>\n",
       "</div>"
      ],
      "text/plain": [
       "  company_name  predicted_revenue_year6\n",
       "0    GreenTech              1349509.750\n",
       "1    FoodSpace               690488.575\n",
       "2     EduWorld              1676244.900\n",
       "3   HealthPlus              2341377.250\n",
       "4      FinNova               272468.150"
      ]
     },
     "execution_count": 43,
     "metadata": {},
     "output_type": "execute_result"
    }
   ],
   "source": [
    "\n",
    "X = np.array([1, 2, 3, 4, 5]).reshape(-1,1)  \n",
    "\n",
    "\n",
    "predicted_revenue = []\n",
    "\n",
    "for i, row in df.iterrows():\n",
    "    y = row[reveune_col].values.reshape(-1,1)  \n",
    "    model = LinearRegression()\n",
    "    model.fit(X, y)\n",
    "    next_year_revenue = model.predict([[6]])[0][0]\n",
    "    predicted_revenue.append(next_year_revenue)\n",
    "\n",
    "\n",
    "df['predicted_revenue_year6'] = predicted_revenue\n",
    "\n",
    "\n",
    "df[['company_name', 'predicted_revenue_year6']].head()\n"
   ]
  },
  {
   "cell_type": "code",
   "execution_count": 47,
   "id": "3e5e12cc-7d52-455f-975f-1f33ce7699fa",
   "metadata": {},
   "outputs": [],
   "source": [
    "df.to_csv('startup_financials_final.csv', index=False)\n"
   ]
  },
  {
   "cell_type": "code",
   "execution_count": null,
   "id": "b8f49aa8-8076-479b-8fb1-93af0437d180",
   "metadata": {},
   "outputs": [],
   "source": []
  }
 ],
 "metadata": {
  "kernelspec": {
   "display_name": "Python 3 (ipykernel)",
   "language": "python",
   "name": "python3"
  },
  "language_info": {
   "codemirror_mode": {
    "name": "ipython",
    "version": 3
   },
   "file_extension": ".py",
   "mimetype": "text/x-python",
   "name": "python",
   "nbconvert_exporter": "python",
   "pygments_lexer": "ipython3",
   "version": "3.12.7"
  }
 },
 "nbformat": 4,
 "nbformat_minor": 5
}
